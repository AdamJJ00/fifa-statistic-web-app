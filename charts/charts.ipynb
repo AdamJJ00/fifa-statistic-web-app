{
 "cells": [
  {
   "cell_type": "code",
   "execution_count": 39,
   "metadata": {
    "collapsed": false
   },
   "outputs": [],
   "source": [
    "import pandas as pd\n",
    "import sqlite3\n",
    "import numpy as np\n",
    "import matplotlib.pyplot as plt\n",
    "import seaborn as sns\n",
    "import plotly.express as px\n",
    "import plotly.graph_objs as go\n",
    "from plotly.offline import iplot"
   ]
  },
  {
   "cell_type": "code",
   "execution_count": 40,
   "metadata": {
    "collapsed": false
   },
   "outputs": [],
   "source": [
    "conn = sqlite3.connect(\"db/fifa_app.db\")\n",
    "\n",
    "players = pd.read_sql_query(\"SELECT * FROM Players\", conn)\n",
    "teams = pd.read_sql_query(\"SELECT * FROM Teams\", conn)\n",
    "stadiums = pd.read_sql_query(\"SELECT * FROM Stadiums\", conn)\n",
    "\n",
    "conn.close()"
   ]
  },
  {
   "cell_type": "code",
   "execution_count": 41,
   "metadata": {
    "collapsed": false
   },
   "outputs": [
    {
     "name": "stdout",
     "output_type": "stream",
     "text": [
      "<class 'pandas.core.frame.DataFrame'>\n",
      "RangeIndex: 217 entries, 0 to 216\n",
      "Data columns (total 8 columns):\n",
      " #   Column         Non-Null Count  Dtype \n",
      "---  ------         --------------  ----- \n",
      " 0   Player_ID      217 non-null    int64 \n",
      " 1   Name           217 non-null    object\n",
      " 2   Date_of_birth  217 non-null    object\n",
      " 3   Height_cm      217 non-null    int64 \n",
      " 4   Position       217 non-null    object\n",
      " 5   Market_value   217 non-null    int64 \n",
      " 6   Better_foot    217 non-null    object\n",
      " 7   Team_ID        217 non-null    int64 \n",
      "dtypes: int64(4), object(4)\n",
      "memory usage: 13.7+ KB\n"
     ]
    }
   ],
   "source": [
    "players.info()"
   ]
  },
  {
   "cell_type": "code",
   "execution_count": 42,
   "metadata": {
    "collapsed": false
   },
   "outputs": [
    {
     "data": {
      "text/html": [
       "<div>\n",
       "<style scoped>\n",
       "    .dataframe tbody tr th:only-of-type {\n",
       "        vertical-align: middle;\n",
       "    }\n",
       "\n",
       "    .dataframe tbody tr th {\n",
       "        vertical-align: top;\n",
       "    }\n",
       "\n",
       "    .dataframe thead th {\n",
       "        text-align: right;\n",
       "    }\n",
       "</style>\n",
       "<table border=\"1\" class=\"dataframe\">\n",
       "  <thead>\n",
       "    <tr style=\"text-align: right;\">\n",
       "      <th></th>\n",
       "      <th>Player_ID</th>\n",
       "      <th>Name</th>\n",
       "      <th>Date_of_birth</th>\n",
       "      <th>Height_cm</th>\n",
       "      <th>Position</th>\n",
       "      <th>Market_value</th>\n",
       "      <th>Better_foot</th>\n",
       "      <th>Team_ID</th>\n",
       "    </tr>\n",
       "  </thead>\n",
       "  <tbody>\n",
       "    <tr>\n",
       "      <th>0</th>\n",
       "      <td>0</td>\n",
       "      <td>Wojciech Szczesny</td>\n",
       "      <td>Apr 18, 1990 (32)</td>\n",
       "      <td>196</td>\n",
       "      <td>Goalkeeper</td>\n",
       "      <td>13000000</td>\n",
       "      <td>R</td>\n",
       "      <td>1</td>\n",
       "    </tr>\n",
       "    <tr>\n",
       "      <th>1</th>\n",
       "      <td>1</td>\n",
       "      <td>Kamil Grabara</td>\n",
       "      <td>Jan 8, 1999 (24)</td>\n",
       "      <td>195</td>\n",
       "      <td>Goalkeeper</td>\n",
       "      <td>5000000</td>\n",
       "      <td>R</td>\n",
       "      <td>1</td>\n",
       "    </tr>\n",
       "    <tr>\n",
       "      <th>2</th>\n",
       "      <td>2</td>\n",
       "      <td>Lukasz Skorupski</td>\n",
       "      <td>May 5, 1991 (31)</td>\n",
       "      <td>187</td>\n",
       "      <td>Goalkeeper</td>\n",
       "      <td>3000000</td>\n",
       "      <td>R</td>\n",
       "      <td>1</td>\n",
       "    </tr>\n",
       "    <tr>\n",
       "      <th>3</th>\n",
       "      <td>3</td>\n",
       "      <td>Jan Bednarek</td>\n",
       "      <td>Apr 12, 1996 (26)</td>\n",
       "      <td>189</td>\n",
       "      <td>Centre-Back</td>\n",
       "      <td>18000000</td>\n",
       "      <td>R</td>\n",
       "      <td>1</td>\n",
       "    </tr>\n",
       "    <tr>\n",
       "      <th>4</th>\n",
       "      <td>4</td>\n",
       "      <td>Jakub Kiwior</td>\n",
       "      <td>Feb 15, 2000 (22)</td>\n",
       "      <td>189</td>\n",
       "      <td>Centre-Back</td>\n",
       "      <td>8000000</td>\n",
       "      <td>L</td>\n",
       "      <td>1</td>\n",
       "    </tr>\n",
       "  </tbody>\n",
       "</table>\n",
       "</div>"
      ],
      "text/plain": [
       "   Player_ID               Name      Date_of_birth  Height_cm     Position  \\\n",
       "0          0  Wojciech Szczesny  Apr 18, 1990 (32)        196   Goalkeeper   \n",
       "1          1      Kamil Grabara   Jan 8, 1999 (24)        195   Goalkeeper   \n",
       "2          2   Lukasz Skorupski   May 5, 1991 (31)        187   Goalkeeper   \n",
       "3          3       Jan Bednarek  Apr 12, 1996 (26)        189  Centre-Back   \n",
       "4          4       Jakub Kiwior  Feb 15, 2000 (22)        189  Centre-Back   \n",
       "\n",
       "   Market_value Better_foot  Team_ID  \n",
       "0      13000000           R        1  \n",
       "1       5000000           R        1  \n",
       "2       3000000           R        1  \n",
       "3      18000000           R        1  \n",
       "4       8000000           L        1  "
      ]
     },
     "execution_count": 42,
     "metadata": {},
     "output_type": "execute_result"
    }
   ],
   "source": [
    "players.head()"
   ]
  },
  {
   "cell_type": "code",
   "execution_count": 43,
   "metadata": {
    "collapsed": false
   },
   "outputs": [
    {
     "data": {
      "text/plain": [
       "Index(['Player_ID', 'Name', 'Date_of_birth', 'Height_cm', 'Position',\n",
       "       'Market_value', 'Better_foot', 'Team_ID'],\n",
       "      dtype='object')"
      ]
     },
     "execution_count": 43,
     "metadata": {},
     "output_type": "execute_result"
    }
   ],
   "source": [
    "players.columns"
   ]
  },
  {
   "cell_type": "code",
   "execution_count": 47,
   "metadata": {
    "collapsed": false
   },
   "outputs": [
    {
     "data": {
      "text/html": [
       "<div>\n",
       "<style scoped>\n",
       "    .dataframe tbody tr th:only-of-type {\n",
       "        vertical-align: middle;\n",
       "    }\n",
       "\n",
       "    .dataframe tbody tr th {\n",
       "        vertical-align: top;\n",
       "    }\n",
       "\n",
       "    .dataframe thead th {\n",
       "        text-align: right;\n",
       "    }\n",
       "</style>\n",
       "<table border=\"1\" class=\"dataframe\">\n",
       "  <thead>\n",
       "    <tr style=\"text-align: right;\">\n",
       "      <th></th>\n",
       "      <th>Player_ID</th>\n",
       "      <th>Name</th>\n",
       "      <th>Date_of_birth</th>\n",
       "      <th>Height_cm</th>\n",
       "      <th>Position</th>\n",
       "      <th>Market_value</th>\n",
       "      <th>Better_foot</th>\n",
       "      <th>Team_ID</th>\n",
       "    </tr>\n",
       "  </thead>\n",
       "  <tbody>\n",
       "    <tr>\n",
       "      <th>139</th>\n",
       "      <td>139</td>\n",
       "      <td>Pedri</td>\n",
       "      <td>Nov 25, 2002 (20)</td>\n",
       "      <td>174</td>\n",
       "      <td>Central Midfield</td>\n",
       "      <td>100000000</td>\n",
       "      <td>R</td>\n",
       "      <td>5</td>\n",
       "    </tr>\n",
       "    <tr>\n",
       "      <th>167</th>\n",
       "      <td>167</td>\n",
       "      <td>Jamal Musiala</td>\n",
       "      <td>Feb 26, 2003 (19)</td>\n",
       "      <td>184</td>\n",
       "      <td>Attacking Midfield</td>\n",
       "      <td>100000000</td>\n",
       "      <td>R</td>\n",
       "      <td>6</td>\n",
       "    </tr>\n",
       "    <tr>\n",
       "      <th>140</th>\n",
       "      <td>140</td>\n",
       "      <td>Gavi</td>\n",
       "      <td>Aug 5, 2004 (18)</td>\n",
       "      <td>173</td>\n",
       "      <td>Central Midfield</td>\n",
       "      <td>90000000</td>\n",
       "      <td>R</td>\n",
       "      <td>5</td>\n",
       "    </tr>\n",
       "    <tr>\n",
       "      <th>137</th>\n",
       "      <td>137</td>\n",
       "      <td>Rodri</td>\n",
       "      <td>Jun 22, 1996 (26)</td>\n",
       "      <td>191</td>\n",
       "      <td>Defensive Midfield</td>\n",
       "      <td>80000000</td>\n",
       "      <td>R</td>\n",
       "      <td>5</td>\n",
       "    </tr>\n",
       "    <tr>\n",
       "      <th>164</th>\n",
       "      <td>164</td>\n",
       "      <td>Joshua Kimmich</td>\n",
       "      <td>Feb 8, 1995 (27)</td>\n",
       "      <td>177</td>\n",
       "      <td>Defensive Midfield</td>\n",
       "      <td>80000000</td>\n",
       "      <td>R</td>\n",
       "      <td>6</td>\n",
       "    </tr>\n",
       "    <tr>\n",
       "      <th>50</th>\n",
       "      <td>50</td>\n",
       "      <td>Lautaro Martinez</td>\n",
       "      <td>Aug 22, 1997 (25)</td>\n",
       "      <td>174</td>\n",
       "      <td>Centre-Forward</td>\n",
       "      <td>75000000</td>\n",
       "      <td>R</td>\n",
       "      <td>0</td>\n",
       "    </tr>\n",
       "    <tr>\n",
       "      <th>168</th>\n",
       "      <td>168</td>\n",
       "      <td>Kai Havertz</td>\n",
       "      <td>Jun 11, 1999 (23)</td>\n",
       "      <td>190</td>\n",
       "      <td>Attacking Midfield</td>\n",
       "      <td>70000000</td>\n",
       "      <td>L</td>\n",
       "      <td>6</td>\n",
       "    </tr>\n",
       "    <tr>\n",
       "      <th>171</th>\n",
       "      <td>171</td>\n",
       "      <td>Leroy Sane</td>\n",
       "      <td>Jan 11, 1996 (27)</td>\n",
       "      <td>183</td>\n",
       "      <td>Left Winger</td>\n",
       "      <td>70000000</td>\n",
       "      <td>L</td>\n",
       "      <td>6</td>\n",
       "    </tr>\n",
       "    <tr>\n",
       "      <th>165</th>\n",
       "      <td>165</td>\n",
       "      <td>Leon Goretzka</td>\n",
       "      <td>Feb 6, 1995 (27)</td>\n",
       "      <td>189</td>\n",
       "      <td>Central Midfield</td>\n",
       "      <td>65000000</td>\n",
       "      <td>R</td>\n",
       "      <td>6</td>\n",
       "    </tr>\n",
       "    <tr>\n",
       "      <th>172</th>\n",
       "      <td>172</td>\n",
       "      <td>Serge Gnabry</td>\n",
       "      <td>Jul 14, 1995 (27)</td>\n",
       "      <td>176</td>\n",
       "      <td>Right Winger</td>\n",
       "      <td>65000000</td>\n",
       "      <td>R</td>\n",
       "      <td>6</td>\n",
       "    </tr>\n",
       "    <tr>\n",
       "      <th>29</th>\n",
       "      <td>29</td>\n",
       "      <td>Cristian Romero</td>\n",
       "      <td>Apr 27, 1998 (24)</td>\n",
       "      <td>185</td>\n",
       "      <td>Centre-Back</td>\n",
       "      <td>60000000</td>\n",
       "      <td>R</td>\n",
       "      <td>0</td>\n",
       "    </tr>\n",
       "    <tr>\n",
       "      <th>40</th>\n",
       "      <td>40</td>\n",
       "      <td>Enzo Fernandez</td>\n",
       "      <td>Jan 17, 2001 (21)</td>\n",
       "      <td>178</td>\n",
       "      <td>Central Midfield</td>\n",
       "      <td>55000000</td>\n",
       "      <td>R</td>\n",
       "      <td>0</td>\n",
       "    </tr>\n",
       "    <tr>\n",
       "      <th>30</th>\n",
       "      <td>30</td>\n",
       "      <td>Lisandro Martinez</td>\n",
       "      <td>Jan 18, 1998 (24)</td>\n",
       "      <td>175</td>\n",
       "      <td>Centre-Back</td>\n",
       "      <td>50000000</td>\n",
       "      <td>L</td>\n",
       "      <td>0</td>\n",
       "    </tr>\n",
       "    <tr>\n",
       "      <th>46</th>\n",
       "      <td>46</td>\n",
       "      <td>Lionel Messi</td>\n",
       "      <td>Jun 24, 1987 (35)</td>\n",
       "      <td>170</td>\n",
       "      <td>Right Winger</td>\n",
       "      <td>50000000</td>\n",
       "      <td>L</td>\n",
       "      <td>0</td>\n",
       "    </tr>\n",
       "    <tr>\n",
       "      <th>51</th>\n",
       "      <td>51</td>\n",
       "      <td>Julian Alvarez</td>\n",
       "      <td>Jan 31, 2000 (22)</td>\n",
       "      <td>170</td>\n",
       "      <td>Centre-Forward</td>\n",
       "      <td>50000000</td>\n",
       "      <td>R</td>\n",
       "      <td>0</td>\n",
       "    </tr>\n",
       "  </tbody>\n",
       "</table>\n",
       "</div>"
      ],
      "text/plain": [
       "     Player_ID               Name      Date_of_birth  Height_cm  \\\n",
       "139        139              Pedri  Nov 25, 2002 (20)        174   \n",
       "167        167      Jamal Musiala  Feb 26, 2003 (19)        184   \n",
       "140        140               Gavi   Aug 5, 2004 (18)        173   \n",
       "137        137              Rodri  Jun 22, 1996 (26)        191   \n",
       "164        164     Joshua Kimmich   Feb 8, 1995 (27)        177   \n",
       "50          50   Lautaro Martinez  Aug 22, 1997 (25)        174   \n",
       "168        168        Kai Havertz  Jun 11, 1999 (23)        190   \n",
       "171        171         Leroy Sane  Jan 11, 1996 (27)        183   \n",
       "165        165      Leon Goretzka   Feb 6, 1995 (27)        189   \n",
       "172        172       Serge Gnabry  Jul 14, 1995 (27)        176   \n",
       "29          29    Cristian Romero  Apr 27, 1998 (24)        185   \n",
       "40          40     Enzo Fernandez  Jan 17, 2001 (21)        178   \n",
       "30          30  Lisandro Martinez  Jan 18, 1998 (24)        175   \n",
       "46          46       Lionel Messi  Jun 24, 1987 (35)        170   \n",
       "51          51     Julian Alvarez  Jan 31, 2000 (22)        170   \n",
       "\n",
       "               Position  Market_value Better_foot  Team_ID  \n",
       "139    Central Midfield     100000000           R        5  \n",
       "167  Attacking Midfield     100000000           R        6  \n",
       "140    Central Midfield      90000000           R        5  \n",
       "137  Defensive Midfield      80000000           R        5  \n",
       "164  Defensive Midfield      80000000           R        6  \n",
       "50       Centre-Forward      75000000           R        0  \n",
       "168  Attacking Midfield      70000000           L        6  \n",
       "171         Left Winger      70000000           L        6  \n",
       "165    Central Midfield      65000000           R        6  \n",
       "172        Right Winger      65000000           R        6  \n",
       "29          Centre-Back      60000000           R        0  \n",
       "40     Central Midfield      55000000           R        0  \n",
       "30          Centre-Back      50000000           L        0  \n",
       "46         Right Winger      50000000           L        0  \n",
       "51       Centre-Forward      50000000           R        0  "
      ]
     },
     "execution_count": 47,
     "metadata": {},
     "output_type": "execute_result"
    }
   ],
   "source": [
    "players.nlargest(15, ['Market_value'])"
   ]
  },
  {
   "cell_type": "code",
   "execution_count": 48,
   "metadata": {
    "collapsed": false
   },
   "outputs": [
    {
     "ename": "ValueError",
     "evalue": "Mime type rendering requires nbformat>=4.2.0 but it is not installed",
     "output_type": "error",
     "traceback": [
      "\u001b[1;31m---------------------------------------------------------------------------\u001b[0m",
      "\u001b[1;31mValueError\u001b[0m                                Traceback (most recent call last)",
      "Cell \u001b[1;32mIn[48], line 22\u001b[0m\n\u001b[0;32m     14\u001b[0m fig\u001b[39m.\u001b[39mupdate_layout(yaxis_range\u001b[39m=\u001b[39m[\u001b[39m25000000\u001b[39m,\u001b[39m85000000\u001b[39m])\n\u001b[0;32m     15\u001b[0m fig\u001b[39m.\u001b[39mupdate_layout(\n\u001b[0;32m     16\u001b[0m     title\u001b[39m=\u001b[39m\u001b[39m\"\u001b[39m\u001b[39mTop 15 players with the highest market value\u001b[39m\u001b[39m\"\u001b[39m,\n\u001b[0;32m     17\u001b[0m     xaxis_title\u001b[39m=\u001b[39m\u001b[39m\"\u001b[39m\u001b[39mPlayers\u001b[39m\u001b[39m\"\u001b[39m,\n\u001b[1;32m   (...)\u001b[0m\n\u001b[0;32m     20\u001b[0m \n\u001b[0;32m     21\u001b[0m )\n\u001b[1;32m---> 22\u001b[0m iplot(fig)\n",
      "File \u001b[1;32mc:\\Users\\krzyr\\AppData\\Local\\Programs\\Python\\Python311\\Lib\\site-packages\\plotly\\offline\\offline.py:392\u001b[0m, in \u001b[0;36miplot\u001b[1;34m(figure_or_data, show_link, link_text, validate, image, filename, image_width, image_height, config, auto_play, animation_opts)\u001b[0m\n\u001b[0;32m    387\u001b[0m post_script \u001b[39m=\u001b[39m build_save_image_post_script(\n\u001b[0;32m    388\u001b[0m     image, filename, image_height, image_width, \u001b[39m\"\u001b[39m\u001b[39miplot\u001b[39m\u001b[39m\"\u001b[39m\n\u001b[0;32m    389\u001b[0m )\n\u001b[0;32m    391\u001b[0m \u001b[39m# Show figure\u001b[39;00m\n\u001b[1;32m--> 392\u001b[0m pio\u001b[39m.\u001b[39;49mshow(\n\u001b[0;32m    393\u001b[0m     figure,\n\u001b[0;32m    394\u001b[0m     validate\u001b[39m=\u001b[39;49mvalidate,\n\u001b[0;32m    395\u001b[0m     config\u001b[39m=\u001b[39;49mconfig,\n\u001b[0;32m    396\u001b[0m     auto_play\u001b[39m=\u001b[39;49mauto_play,\n\u001b[0;32m    397\u001b[0m     post_script\u001b[39m=\u001b[39;49mpost_script,\n\u001b[0;32m    398\u001b[0m     animation_opts\u001b[39m=\u001b[39;49manimation_opts,\n\u001b[0;32m    399\u001b[0m )\n",
      "File \u001b[1;32mc:\\Users\\krzyr\\AppData\\Local\\Programs\\Python\\Python311\\Lib\\site-packages\\plotly\\io\\_renderers.py:396\u001b[0m, in \u001b[0;36mshow\u001b[1;34m(fig, renderer, validate, **kwargs)\u001b[0m\n\u001b[0;32m    391\u001b[0m         \u001b[39mraise\u001b[39;00m \u001b[39mValueError\u001b[39;00m(\n\u001b[0;32m    392\u001b[0m             \u001b[39m\"\u001b[39m\u001b[39mMime type rendering requires ipython but it is not installed\u001b[39m\u001b[39m\"\u001b[39m\n\u001b[0;32m    393\u001b[0m         )\n\u001b[0;32m    395\u001b[0m     \u001b[39mif\u001b[39;00m \u001b[39mnot\u001b[39;00m nbformat \u001b[39mor\u001b[39;00m LooseVersion(nbformat\u001b[39m.\u001b[39m__version__) \u001b[39m<\u001b[39m LooseVersion(\u001b[39m\"\u001b[39m\u001b[39m4.2.0\u001b[39m\u001b[39m\"\u001b[39m):\n\u001b[1;32m--> 396\u001b[0m         \u001b[39mraise\u001b[39;00m \u001b[39mValueError\u001b[39;00m(\n\u001b[0;32m    397\u001b[0m             \u001b[39m\"\u001b[39m\u001b[39mMime type rendering requires nbformat>=4.2.0 but it is not installed\u001b[39m\u001b[39m\"\u001b[39m\n\u001b[0;32m    398\u001b[0m         )\n\u001b[0;32m    400\u001b[0m     ipython_display\u001b[39m.\u001b[39mdisplay(bundle, raw\u001b[39m=\u001b[39m\u001b[39mTrue\u001b[39;00m)\n\u001b[0;32m    402\u001b[0m \u001b[39m# external renderers\u001b[39;00m\n",
      "\u001b[1;31mValueError\u001b[0m: Mime type rendering requires nbformat>=4.2.0 but it is not installed"
     ]
    }
   ],
   "source": [
    "players_top_value = players.nlargest(15, ['Market_value'])\n",
    "\n",
    "\n",
    "plot_1 = go.Bar(\n",
    "                x = players_top_value.Name,\n",
    "                y = players_top_value.Market_value,\n",
    "                marker = dict(color = '#a1435f',\n",
    "                line=dict(color='rgb(0,0,0)',width=1.5)),\n",
    "                text = players_top_value.Position)\n",
    "\n",
    "data = [plot_1]\n",
    "layout = go.Layout(barmode = \"group\")\n",
    "fig = go.Figure(data = data, layout = layout)\n",
    "fig.update_layout(yaxis_range=[25000000,85000000])\n",
    "fig.update_layout(\n",
    "    title=\"Top 15 players with the highest market value\",\n",
    "    xaxis_title=\"Players\",\n",
    "    yaxis_title=\"Market value\",\n",
    "    template = \"plotly_white\",\n",
    "\n",
    ")\n",
    "iplot(fig)"
   ]
  },
  {
   "cell_type": "code",
   "execution_count": 49,
   "metadata": {
    "collapsed": false
   },
   "outputs": [
    {
     "ename": "ValueError",
     "evalue": "Mime type rendering requires nbformat>=4.2.0 but it is not installed",
     "output_type": "error",
     "traceback": [
      "\u001b[1;31m---------------------------------------------------------------------------\u001b[0m",
      "\u001b[1;31mValueError\u001b[0m                                Traceback (most recent call last)",
      "Cell \u001b[1;32mIn[49], line 7\u001b[0m\n\u001b[0;32m      4\u001b[0m fig\u001b[39m.\u001b[39mupdate_yaxes(title_text\u001b[39m=\u001b[39m\u001b[39m\"\u001b[39m\u001b[39mMarket value\u001b[39m\u001b[39m\"\u001b[39m)\n\u001b[0;32m      5\u001b[0m fig\u001b[39m.\u001b[39mupdate_traces(marker_color\u001b[39m=\u001b[39m\u001b[39m'\u001b[39m\u001b[39m#a1435f\u001b[39m\u001b[39m'\u001b[39m, marker_line_color\u001b[39m=\u001b[39m\u001b[39m'\u001b[39m\u001b[39mrgb(0,0,0)\u001b[39m\u001b[39m'\u001b[39m,\n\u001b[0;32m      6\u001b[0m                   marker_line_width\u001b[39m=\u001b[39m\u001b[39m1.5\u001b[39m, opacity\u001b[39m=\u001b[39m\u001b[39m0.95\u001b[39m)\n\u001b[1;32m----> 7\u001b[0m fig\u001b[39m.\u001b[39;49mshow()\n",
      "File \u001b[1;32mc:\\Users\\krzyr\\AppData\\Local\\Programs\\Python\\Python311\\Lib\\site-packages\\plotly\\basedatatypes.py:3390\u001b[0m, in \u001b[0;36mBaseFigure.show\u001b[1;34m(self, *args, **kwargs)\u001b[0m\n\u001b[0;32m   3357\u001b[0m \u001b[39m\u001b[39m\u001b[39m\"\"\"\u001b[39;00m\n\u001b[0;32m   3358\u001b[0m \u001b[39mShow a figure using either the default renderer(s) or the renderer(s)\u001b[39;00m\n\u001b[0;32m   3359\u001b[0m \u001b[39mspecified by the renderer argument\u001b[39;00m\n\u001b[1;32m   (...)\u001b[0m\n\u001b[0;32m   3386\u001b[0m \u001b[39mNone\u001b[39;00m\n\u001b[0;32m   3387\u001b[0m \u001b[39m\"\"\"\u001b[39;00m\n\u001b[0;32m   3388\u001b[0m \u001b[39mimport\u001b[39;00m \u001b[39mplotly\u001b[39;00m\u001b[39m.\u001b[39;00m\u001b[39mio\u001b[39;00m \u001b[39mas\u001b[39;00m \u001b[39mpio\u001b[39;00m\n\u001b[1;32m-> 3390\u001b[0m \u001b[39mreturn\u001b[39;00m pio\u001b[39m.\u001b[39;49mshow(\u001b[39mself\u001b[39;49m, \u001b[39m*\u001b[39;49margs, \u001b[39m*\u001b[39;49m\u001b[39m*\u001b[39;49mkwargs)\n",
      "File \u001b[1;32mc:\\Users\\krzyr\\AppData\\Local\\Programs\\Python\\Python311\\Lib\\site-packages\\plotly\\io\\_renderers.py:396\u001b[0m, in \u001b[0;36mshow\u001b[1;34m(fig, renderer, validate, **kwargs)\u001b[0m\n\u001b[0;32m    391\u001b[0m         \u001b[39mraise\u001b[39;00m \u001b[39mValueError\u001b[39;00m(\n\u001b[0;32m    392\u001b[0m             \u001b[39m\"\u001b[39m\u001b[39mMime type rendering requires ipython but it is not installed\u001b[39m\u001b[39m\"\u001b[39m\n\u001b[0;32m    393\u001b[0m         )\n\u001b[0;32m    395\u001b[0m     \u001b[39mif\u001b[39;00m \u001b[39mnot\u001b[39;00m nbformat \u001b[39mor\u001b[39;00m LooseVersion(nbformat\u001b[39m.\u001b[39m__version__) \u001b[39m<\u001b[39m LooseVersion(\u001b[39m\"\u001b[39m\u001b[39m4.2.0\u001b[39m\u001b[39m\"\u001b[39m):\n\u001b[1;32m--> 396\u001b[0m         \u001b[39mraise\u001b[39;00m \u001b[39mValueError\u001b[39;00m(\n\u001b[0;32m    397\u001b[0m             \u001b[39m\"\u001b[39m\u001b[39mMime type rendering requires nbformat>=4.2.0 but it is not installed\u001b[39m\u001b[39m\"\u001b[39m\n\u001b[0;32m    398\u001b[0m         )\n\u001b[0;32m    400\u001b[0m     ipython_display\u001b[39m.\u001b[39mdisplay(bundle, raw\u001b[39m=\u001b[39m\u001b[39mTrue\u001b[39;00m)\n\u001b[0;32m    402\u001b[0m \u001b[39m# external renderers\u001b[39;00m\n",
      "\u001b[1;31mValueError\u001b[0m: Mime type rendering requires nbformat>=4.2.0 but it is not installed"
     ]
    }
   ],
   "source": [
    "fig = px.bar(players_top_value, x=\"Name\", y=\"Market_value\", barmode=\"group\", template='plotly_white', title=\"Top 15 players with the highest market value\",\n",
    "      text = players_top_value.Position)\n",
    "fig.update_xaxes(title_text=\"Players\")\n",
    "fig.update_yaxes(title_text=\"Market value\")\n",
    "fig.update_traces(marker_color='#a1435f', marker_line_color='rgb(0,0,0)',\n",
    "                  marker_line_width=1.5, opacity=0.95)\n",
    "fig.show()"
   ]
  },
  {
   "cell_type": "code",
   "execution_count": null,
   "metadata": {
    "collapsed": false
   },
   "outputs": [],
   "source": [
    "players_tallest = players.nlargest(15, ['Height_cm'])\n",
    "\n",
    "trace1 = go.Bar(\n",
    "                y = players_tallest.Name,\n",
    "                x = players_tallest.Height_cm,\n",
    "                marker = dict(color = '#63C085',\n",
    "                             line=dict(color='rgb(0,0,0)',width=1.5)),\n",
    "                text = players_tallest.Position,\n",
    "                orientation='h')\n",
    "\n",
    "data = [trace1]\n",
    "layout = go.Layout(barmode = \"group\")\n",
    "fig2 = go.Figure(data = data, layout = layout)\n",
    "fig2.update_layout(xaxis_range=[185,200])\n",
    "fig2.update_layout(\n",
    "    title=\"Top 15 tallest players\",\n",
    "    xaxis_title=\"Height\",\n",
    "    yaxis_title=\"Players\",\n",
    "    template = \"plotly_white\"\n",
    ")\n",
    "iplot(fig2)"
   ]
  },
  {
   "cell_type": "code",
   "execution_count": null,
   "metadata": {
    "collapsed": false
   },
   "outputs": [],
   "source": [
    "fig = px.bar(players_tallest, x=\"Height_cm\", y=\"Name\", barmode=\"group\", template='plotly_white', title=\"Top 15 tallest players\",\n",
    "      text = players_top_value.Position)\n",
    "fig.update_xaxes(title_text=\"Height\", range = [185,200])\n",
    "fig.update_yaxes(title_text=\"Players\")\n",
    "fig.update_traces(marker_color='#63C085', marker_line_color='rgb(0,0,0)',\n",
    "                  marker_line_width=1.5, opacity=0.95)\n",
    "fig.show()"
   ]
  },
  {
   "cell_type": "code",
   "execution_count": null,
   "metadata": {
    "collapsed": false
   },
   "outputs": [],
   "source": [
    "teams"
   ]
  },
  {
   "cell_type": "code",
   "execution_count": null,
   "metadata": {
    "collapsed": false
   },
   "outputs": [],
   "source": [
    "teams.drop('Unnamed: 0',axis=1,inplace=True)"
   ]
  },
  {
   "cell_type": "code",
   "execution_count": null,
   "metadata": {
    "collapsed": false
   },
   "outputs": [],
   "source": [
    "teams"
   ]
  },
  {
   "cell_type": "code",
   "execution_count": null,
   "metadata": {
    "collapsed": false
   },
   "outputs": [],
   "source": [
    "team_names = teams['Team_name']"
   ]
  },
  {
   "cell_type": "code",
   "execution_count": null,
   "metadata": {
    "collapsed": false
   },
   "outputs": [],
   "source": [
    "teams_grpd_height = players[['Height_cm', 'Market_value' ,'Team_ID']]\n",
    "teams_grpd_height = players.groupby(['Team_ID']).mean()"
   ]
  },
  {
   "cell_type": "code",
   "execution_count": null,
   "metadata": {
    "collapsed": false
   },
   "outputs": [],
   "source": [
    "teams_grpd_height"
   ]
  },
  {
   "cell_type": "code",
   "execution_count": null,
   "metadata": {
    "collapsed": false
   },
   "outputs": [],
   "source": [
    "teams_grpd_height['Team_Name'] = team_names"
   ]
  },
  {
   "cell_type": "code",
   "execution_count": null,
   "metadata": {
    "collapsed": false
   },
   "outputs": [],
   "source": [
    "teams_grpd_height"
   ]
  },
  {
   "cell_type": "code",
   "execution_count": null,
   "metadata": {
    "collapsed": false
   },
   "outputs": [],
   "source": [
    "teams_grpd_height.info()"
   ]
  },
  {
   "cell_type": "code",
   "execution_count": null,
   "metadata": {
    "collapsed": false
   },
   "outputs": [],
   "source": [
    "plt.figure(figsize=(20,15))\n",
    "sns.set_style(\"whitegrid\")\n",
    "ax= sns.barplot(x=teams_grpd_height['Team_Name'], y=teams_grpd_height['Height_cm'], palette = sns.cubehelix_palette(len(teams_grpd_height['Team_Name'])))\n",
    "plt.ylim(170, 187)\n",
    "plt.xlabel('Teams', fontsize=20)\n",
    "plt.ylabel('Avg players height', fontsize=20)\n",
    "plt.title('Average players height by each team (country)', fontsize=40)"
   ]
  },
  {
   "cell_type": "code",
   "execution_count": null,
   "metadata": {
    "collapsed": false
   },
   "outputs": [],
   "source": [
    "teams_grpd_value = players[['Market_value' ,'Team_ID']]"
   ]
  },
  {
   "cell_type": "code",
   "execution_count": null,
   "metadata": {
    "collapsed": false
   },
   "outputs": [],
   "source": [
    "teams_grpd_value = players.groupby(['Team_ID']).sum()"
   ]
  },
  {
   "cell_type": "code",
   "execution_count": null,
   "metadata": {
    "collapsed": false
   },
   "outputs": [],
   "source": [
    "teams_grpd_value['Team_Name'] = team_names"
   ]
  },
  {
   "cell_type": "code",
   "execution_count": null,
   "metadata": {
    "collapsed": false
   },
   "outputs": [],
   "source": [
    "teams_grpd_value"
   ]
  },
  {
   "cell_type": "code",
   "execution_count": null,
   "metadata": {
    "collapsed": false
   },
   "outputs": [],
   "source": [
    "import plotly.express as px\n",
    "\n",
    "print(px.colors.qualitative.Pastel)"
   ]
  },
  {
   "cell_type": "code",
   "execution_count": null,
   "metadata": {
    "collapsed": false
   },
   "outputs": [],
   "source": [
    "teams_grpd_value = teams_grpd_value.sort_values(by=['Market_value'], ascending=True)"
   ]
  },
  {
   "cell_type": "code",
   "execution_count": null,
   "metadata": {
    "collapsed": false
   },
   "outputs": [],
   "source": [
    "teams_grpd_value"
   ]
  },
  {
   "cell_type": "code",
   "execution_count": null,
   "metadata": {
    "collapsed": false
   },
   "outputs": [],
   "source": [
    "plt.figure(figsize=(20,15))\n",
    "sns.set_style(\"whitegrid\")\n",
    "ax= sns.barplot(x=teams_grpd_value['Team_Name'], y=teams_grpd_value['Market_value'], palette = sns.cubehelix_palette(len(teams_grpd_value['Team_Name'])))\n",
    "plt.ylim(25000000, 1000000000)\n",
    "plt.xlabel('Teams', fontsize=20)\n",
    "plt.ylabel('Market value', fontsize=20)\n",
    "plt.title('Market value of teams (countries)', fontsize=40)"
   ]
  },
  {
   "cell_type": "code",
   "execution_count": null,
   "metadata": {
    "collapsed": false
   },
   "outputs": [],
   "source": [
    "trace1 = go.Bar(\n",
    "                x = teams_grpd_value.Market_value,\n",
    "                y = teams_grpd_value.Team_Name,\n",
    "                marker = dict(color = ['rgb(102, 197, 204)', 'rgb(246, 207, 113)', 'rgb(248, 156, 116)', 'rgb(220, 176, 242)', 'rgb(135, 197, 95)', 'rgb(158, 185, 243)', 'rgb(254, 136, 177)', 'rgb(201, 219, 116)'],\n",
    "                line=dict(color='rgb(0,0,0)',width=1.5)),\n",
    "                text = teams.Coach,\n",
    "                orientation='h')\n",
    "\n",
    "data = [trace1]\n",
    "layout = go.Layout(barmode = \"group\")\n",
    "fig3 = go.Figure(data = data, layout = layout)\n",
    "fig3.update_layout(\n",
    "    title=\"Market value of teams (countries)\",\n",
    "    xaxis_title=\"Market value\",\n",
    "    yaxis_title=\"Teams\",\n",
    "    template = \"plotly_white\"\n",
    ")\n",
    "iplot(fig3)"
   ]
  },
  {
   "cell_type": "code",
   "execution_count": null,
   "metadata": {
    "collapsed": false
   },
   "outputs": [],
   "source": [
    "fig = px.bar(teams_grpd_value, x=\"Market_value\", y=\"Team_Name\", barmode=\"group\", template='plotly_white', title=\"Market value of teams (countries)\",\n",
    "      text = teams.Coach)\n",
    "fig.update_xaxes(title_text=\"Market value\")\n",
    "fig.update_yaxes(title_text=\"Teams\")\n",
    "fig.update_traces(marker_color=['rgb(102, 197, 204)', 'rgb(246, 207, 113)', 'rgb(248, 156, 116)', 'rgb(220, 176, 242)', 'rgb(135, 197, 95)', 'rgb(158, 185, 243)', 'rgb(254, 136, 177)', 'rgb(201, 219, 116)'], marker_line_color='rgb(0,0,0)',\n",
    "                  marker_line_width=1.5, opacity=0.95)\n",
    "fig.show()"
   ]
  },
  {
   "cell_type": "code",
   "execution_count": null,
   "metadata": {
    "collapsed": false
   },
   "outputs": [],
   "source": [
    "teams"
   ]
  },
  {
   "cell_type": "code",
   "execution_count": null,
   "metadata": {
    "collapsed": false
   },
   "outputs": [],
   "source": [
    "group_c = teams[teams['Group_letter']=='C']"
   ]
  },
  {
   "cell_type": "code",
   "execution_count": null,
   "metadata": {
    "collapsed": false
   },
   "outputs": [],
   "source": [
    "group_c"
   ]
  },
  {
   "cell_type": "code",
   "execution_count": null,
   "metadata": {
    "collapsed": false
   },
   "outputs": [],
   "source": [
    "group_e = teams[teams['Group_letter']=='E']\n",
    "group_e"
   ]
  },
  {
   "cell_type": "code",
   "execution_count": null,
   "metadata": {
    "collapsed": false
   },
   "outputs": [],
   "source": [
    "stadiums = stadiums.sort_values(by=['Capacity'], ascending=True)"
   ]
  },
  {
   "cell_type": "code",
   "execution_count": null,
   "metadata": {
    "collapsed": false
   },
   "outputs": [],
   "source": [
    "stadiums"
   ]
  },
  {
   "cell_type": "code",
   "execution_count": null,
   "metadata": {
    "collapsed": false
   },
   "outputs": [],
   "source": [
    "print(px.colors.qualitative.Plotly)"
   ]
  },
  {
   "cell_type": "code",
   "execution_count": null,
   "metadata": {
    "collapsed": false
   },
   "outputs": [],
   "source": [
    "trace1 = go.Bar(\n",
    "                y = stadiums.Stadium_name,\n",
    "                x = stadiums.Capacity,\n",
    "                marker = dict(color = ['#636EFA', '#EF553B', '#00CC96', '#AB63FA', '#FFA15A', '#19D3F3', '#FF6692', '#B6E880'],\n",
    "                line=dict(color='rgb(0,0,0)',width=1.5)),\n",
    "                text = stadiums.City,\n",
    "                orientation='h')\n",
    "\n",
    "data = [trace1]\n",
    "layout = go.Layout(barmode = \"group\")\n",
    "fig4 = go.Figure(data = data, layout = layout)\n",
    "fig4.update_layout(\n",
    "    title=\"Capacity of stadiums (Qatar)\",\n",
    "    yaxis_title=\"Stadium name\",\n",
    "    xaxis_title=\"Capacity\",\n",
    "    template = \"plotly_white\"\n",
    ")\n",
    "iplot(fig4)"
   ]
  },
  {
   "cell_type": "code",
   "execution_count": null,
   "metadata": {
    "collapsed": false
   },
   "outputs": [],
   "source": [
    "fig = px.bar(stadiums, x=\"Capacity\", y=\"Stadium_name\", barmode=\"group\", template='plotly_white', title=\"Capacity of stadiums (Qatar)\",\n",
    "      text = stadiums.City)\n",
    "fig.update_xaxes(title_text=\"Capacity\")\n",
    "fig.update_yaxes(title_text=\"Stadium name\")\n",
    "fig.update_traces(marker_color=['#636EFA', '#EF553B', '#00CC96', '#AB63FA', '#FFA15A', '#19D3F3', '#FF6692', '#B6E880'], marker_line_color='rgb(0,0,0)',\n",
    "                  marker_line_width=1.5, opacity=0.95)\n",
    "fig.show()"
   ]
  },
  {
   "cell_type": "code",
   "execution_count": null,
   "metadata": {
    "collapsed": false
   },
   "outputs": [],
   "source": [
    "players"
   ]
  },
  {
   "cell_type": "code",
   "execution_count": null,
   "metadata": {
    "collapsed": false
   },
   "outputs": [],
   "source": [
    "data = go.Scatter(\n",
    "                    x = players.Height_cm,\n",
    "                    y = players.Market_value,\n",
    "                    marker = dict(color = players.Team_ID),\n",
    "                    mode = \"markers\",\n",
    "                    name = \"TeamID\",\n",
    "                    text= players.Name)\n",
    "\n",
    "layout = dict(title = 'Players market value scatter plot',\n",
    "              xaxis= dict(title= 'Player_height'),\n",
    "              yaxis= dict(title= 'Market_value'),\n",
    "              template = \"plotly_white\"\n",
    "             )\n",
    "fig = dict(data = data, layout = layout)\n",
    "iplot(fig)"
   ]
  },
  {
   "cell_type": "code",
   "execution_count": null,
   "metadata": {
    "collapsed": false
   },
   "outputs": [],
   "source": []
  }
 ],
 "metadata": {
  "kernelspec": {
   "display_name": "Python 3",
   "language": "python",
   "name": "python3"
  },
  "language_info": {
   "codemirror_mode": {
    "name": "ipython",
    "version": 3
   },
   "file_extension": ".py",
   "mimetype": "text/x-python",
   "name": "python",
   "nbconvert_exporter": "python",
   "pygments_lexer": "ipython3",
   "version": "3.11.1"
  },
  "vscode": {
   "interpreter": {
    "hash": "01b1ab3b7b2c3d0005a6eaf56b8ac439da06cf8550aae774b342e984591a4dfc"
   }
  }
 },
 "nbformat": 4,
 "nbformat_minor": 0
}
