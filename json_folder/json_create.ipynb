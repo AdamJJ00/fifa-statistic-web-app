{
 "cells": [
  {
   "cell_type": "code",
   "execution_count": 1,
   "metadata": {
    "collapsed": true
   },
   "outputs": [],
   "source": [
    "import json\n",
    "\n",
    "stadiums = {\"name\": [\"Lusail Stadium\", \"Al Bayt Stadium\", \"Khalifa International Stadium\", \"Ahmad Bin Ali Stadium\", \"Education City Stadium\", \"Al Thumama Stadium\", \"Al Janoub Stadium\", \"Stadium 974\"],\n",
    "    \"note\": [\n",
    "        \"Lusail Iconic Stadium is a sports stadium located in Lusail, Qatar. With a capacity of 80,000 seats, it will serve as the main stadium for the 2022 FIFA World Cup. The stadium is designed to resemble a 'closed shell' and features a unique lighting system that illuminates the stadium at night. It is also equipped with state-of-the-art technology such as video screens and sound systems. The stadium is part of a larger development project in Lusail, which includes residential areas, commercial spaces, and other sports facilities.\",\n",
    "        \"Al Bayt Stadium is a sports stadium located in Al Khor City, Qatar. With a capacity of 60,000 seats, it will serve as one of the venues for the 2022 FIFA World Cup. The stadium is designed to resemble a traditional Qatari tent, known as a 'bayt al sha'ar', and features a unique, partially translucent outer layer that allows natural light into the seating area. The stadium is also equipped with state-of-the-art technology such as video screens and sound systems. The stadium is part of a larger development project in Al Khor City, which includes residential areas, commercial spaces, and other sports facilities. The stadium will be transformed after the World Cup into a community sports venue.\",\n",
    "        \"Khalifa International Stadium is a sports stadium located in Doha, Qatar. The stadium has undergone a major renovation before the 2022 FIFA World Cup. With a capacity of 40,000 seats, it will serve as one of the venues for the tournament. The stadium is known for its unique design, which features a partial roof that shades the seating area, and also for its state-of-the-art technology such as video screens and sound systems. The stadium was originally built in 1976 and has undergone several renovations and expansions over the years. The latest renovation has made it a modern, air-conditioned facility that meets all FIFA requirements. The stadium will be transformed after the World Cup into a community sports venue and will host various events like concerts, sports competitions, and other entertainment events.\",\n",
    "        \"Ahmad Bin Ali Stadium is a sports stadium located in Al Rayyan, Qatar. With a capacity of 40,000 seats, it will serve as one of the venues for the 2022 FIFA World Cup. The stadium is known for its unique design, which features a partially translucent outer layer that allows natural light into the seating area and also for its state-of-the-art technology such as video screens and sound systems. The stadium is part of a larger development project in Al Rayyan, which includes residential areas, commercial spaces, and other sports facilities. The stadium will be transformed after the World Cup into a community sports venue and will host various events like concerts, sports competitions, and other entertainment events.\",\n",
    "        \"Education City Stadium is a sports stadium located in Al Rayyan, Qatar. With a capacity of 40,000 seats, it will serve as one of the venues for the 2022 FIFA World Cup. The stadium is known for its unique design, which features a circular shape and a partially translucent outer layer that allows natural light into the seating area and also for its state-of-the-art technology such as video screens and sound systems. Education City Stadium is located in the heart of Education City, Qatar's premier center for higher education, research and innovation. The stadium is part of a larger development project in Education City, which includes residential areas, commercial spaces, and other sports facilities. The stadium will be transformed after the World Cup into a community sports venue and will host various events like concerts, sports competitions, and other entertainment events.\",\n",
    "        \"Al Thumama Stadium is a sports stadium located in Al Thumama, Qatar. With a capacity of 40,000 seats, it will serve as one of the venues for the 2022 FIFA World Cup. The stadium is designed to resemble a traditional Qatari headgear, known as a 'gahfiya' and features a unique, partially translucent outer layer that allows natural light into the seating area. The stadium is also equipped with state-of-the-art technology such as video screens and sound systems. The stadium will be transformed after the World Cup into a community sports venue, which will include a sports hall, a gym, and other facilities for the local community.\",\n",
    "        \"Al Janoub Stadium is a sports stadium located in Al Wakrah, Qatar. With a capacity of 40,000 seats, it will serve as one of the venues for the 2022 FIFA World Cup. The stadium is known for its unique design, which features a partially translucent outer layer that allows natural light into the seating area and also for its state-of-the-art technology such as video screens and sound systems. The stadium is part of a larger development project in Al Wakrah, which includes residential areas, commercial spaces, and other sports facilities. The stadium was the first of the 8 venues to be completed for the World Cup and was opened in 2019. After the World Cup, the stadium will be transformed into a community sports venue and will host various events like concerts, sports competitions, and other entertainment events.\",\n",
    "        \"Stadium 974 is a sports stadium located in Doha, Qatar. The stadium will not be used as a venue for the 2022 FIFA World Cup. The design of the stadium was inspired by the traditional Qatari dhow boat and it has a capacity of 40,000 seats. The stadium will have state-of-the-art technology such as video screens and sound systems. The stadium's design is intended to reflect the country's heritage and culture, while also providing a world-class sports and entertainment venue for the local community. It is planned to be used as a community sports venue after the World Cup, hosting various events like concerts, sports competitions and other entertainment events.\"\n",
    "    ]\n",
    "            }\n",
    "\n",
    "# Serializing json\n",
    "json_stadiums = json.dumps(stadiums, indent=4)\n",
    "\n",
    "# Writing to sample.json\n",
    "with open(\"stadiums_note.json\", \"w\") as outfile:\n",
    "    outfile.write(json_stadiums)"
   ]
  },
  {
   "cell_type": "code",
   "execution_count": null,
   "outputs": [],
   "source": [],
   "metadata": {
    "collapsed": false
   }
  }
 ],
 "metadata": {
  "kernelspec": {
   "display_name": "Python 3",
   "language": "python",
   "name": "python3"
  },
  "language_info": {
   "codemirror_mode": {
    "name": "ipython",
    "version": 2
   },
   "file_extension": ".py",
   "mimetype": "text/x-python",
   "name": "python",
   "nbconvert_exporter": "python",
   "pygments_lexer": "ipython2",
   "version": "2.7.6"
  }
 },
 "nbformat": 4,
 "nbformat_minor": 0
}
